{
 "cells": [
  {
   "cell_type": "markdown",
   "id": "93ec5359",
   "metadata": {},
   "source": [
    "# Assignment 2: Feedforward Neural Networks"
   ]
  },
  {
   "cell_type": "markdown",
   "id": "b3433711",
   "metadata": {},
   "source": [
    "## Programming Question 1: Implementing Deep FNN\n",
    "Through this assignment you learn how to use `torch.nn` module of torch to implement a neural network in only few lines of code.\n",
    "\n",
    "We first import all required packages."
   ]
  },
  {
   "cell_type": "code",
   "execution_count": 12,
   "id": "10545dc9",
   "metadata": {},
   "outputs": [
    {
     "name": "stdout",
     "output_type": "stream",
     "text": [
      "Requirement already satisfied: torch in e:\\ece1508-applied-deep-learning\\.conda\\lib\\site-packages (2.6.0)\n",
      "Requirement already satisfied: torchvision in e:\\ece1508-applied-deep-learning\\.conda\\lib\\site-packages (0.21.0)\n",
      "Requirement already satisfied: scikit-learn in e:\\ece1508-applied-deep-learning\\.conda\\lib\\site-packages (1.6.1)\n",
      "Requirement already satisfied: numpy in e:\\ece1508-applied-deep-learning\\.conda\\lib\\site-packages (2.2.3)\n",
      "Requirement already satisfied: matplotlib in e:\\ece1508-applied-deep-learning\\.conda\\lib\\site-packages (3.10.0)\n",
      "Requirement already satisfied: tqdm in e:\\ece1508-applied-deep-learning\\.conda\\lib\\site-packages (4.67.1)\n",
      "Requirement already satisfied: filelock in e:\\ece1508-applied-deep-learning\\.conda\\lib\\site-packages (from torch) (3.17.0)\n",
      "Requirement already satisfied: typing-extensions>=4.10.0 in e:\\ece1508-applied-deep-learning\\.conda\\lib\\site-packages (from torch) (4.12.2)\n",
      "Requirement already satisfied: networkx in e:\\ece1508-applied-deep-learning\\.conda\\lib\\site-packages (from torch) (3.4.2)\n",
      "Requirement already satisfied: jinja2 in e:\\ece1508-applied-deep-learning\\.conda\\lib\\site-packages (from torch) (3.1.5)\n",
      "Requirement already satisfied: fsspec in e:\\ece1508-applied-deep-learning\\.conda\\lib\\site-packages (from torch) (2025.2.0)\n",
      "Requirement already satisfied: sympy==1.13.1 in e:\\ece1508-applied-deep-learning\\.conda\\lib\\site-packages (from torch) (1.13.1)\n",
      "Requirement already satisfied: mpmath<1.4,>=1.1.0 in e:\\ece1508-applied-deep-learning\\.conda\\lib\\site-packages (from sympy==1.13.1->torch) (1.3.0)\n",
      "Requirement already satisfied: pillow!=8.3.*,>=5.3.0 in e:\\ece1508-applied-deep-learning\\.conda\\lib\\site-packages (from torchvision) (11.1.0)\n",
      "Requirement already satisfied: scipy>=1.6.0 in e:\\ece1508-applied-deep-learning\\.conda\\lib\\site-packages (from scikit-learn) (1.15.1)\n",
      "Requirement already satisfied: joblib>=1.2.0 in e:\\ece1508-applied-deep-learning\\.conda\\lib\\site-packages (from scikit-learn) (1.4.2)\n",
      "Requirement already satisfied: threadpoolctl>=3.1.0 in e:\\ece1508-applied-deep-learning\\.conda\\lib\\site-packages (from scikit-learn) (3.5.0)\n",
      "Requirement already satisfied: contourpy>=1.0.1 in e:\\ece1508-applied-deep-learning\\.conda\\lib\\site-packages (from matplotlib) (1.3.1)\n",
      "Requirement already satisfied: cycler>=0.10 in e:\\ece1508-applied-deep-learning\\.conda\\lib\\site-packages (from matplotlib) (0.12.1)\n",
      "Requirement already satisfied: fonttools>=4.22.0 in e:\\ece1508-applied-deep-learning\\.conda\\lib\\site-packages (from matplotlib) (4.56.0)\n",
      "Requirement already satisfied: kiwisolver>=1.3.1 in e:\\ece1508-applied-deep-learning\\.conda\\lib\\site-packages (from matplotlib) (1.4.8)\n",
      "Requirement already satisfied: packaging>=20.0 in e:\\ece1508-applied-deep-learning\\.conda\\lib\\site-packages (from matplotlib) (24.2)\n",
      "Requirement already satisfied: pyparsing>=2.3.1 in e:\\ece1508-applied-deep-learning\\.conda\\lib\\site-packages (from matplotlib) (3.2.1)\n",
      "Requirement already satisfied: python-dateutil>=2.7 in e:\\ece1508-applied-deep-learning\\.conda\\lib\\site-packages (from matplotlib) (2.9.0.post0)\n",
      "Requirement already satisfied: colorama in e:\\ece1508-applied-deep-learning\\.conda\\lib\\site-packages (from tqdm) (0.4.6)\n",
      "Requirement already satisfied: six>=1.5 in e:\\ece1508-applied-deep-learning\\.conda\\lib\\site-packages (from python-dateutil>=2.7->matplotlib) (1.17.0)\n",
      "Requirement already satisfied: MarkupSafe>=2.0 in e:\\ece1508-applied-deep-learning\\.conda\\lib\\site-packages (from jinja2->torch) (3.0.2)\n",
      "Note: you may need to restart the kernel to use updated packages.\n"
     ]
    }
   ],
   "source": [
    "%pip install torch torchvision scikit-learn numpy matplotlib tqdm"
   ]
  },
  {
   "cell_type": "code",
   "execution_count": 13,
   "id": "6521ecf6",
   "metadata": {},
   "outputs": [],
   "source": [
    "# We import torch and the nn module\n",
    "import torch\n",
    "import torch.nn as nn\n",
    "\n",
    "# We import NumPy and tqdm\n",
    "import numpy as np\n",
    "from tqdm import tqdm\n",
    "\n",
    "# We need few items from Scikit-Learn\n",
    "import sklearn.datasets as DataSets\n",
    "from sklearn.model_selection import train_test_split\n",
    "\n",
    "# Also we need to plot few curves\n",
    "import matplotlib.pyplot as plt"
   ]
  },
  {
   "cell_type": "markdown",
   "id": "1e517ef1",
   "metadata": {},
   "source": [
    "### Data Splitting: Make Training Mini-Batches"
   ]
  },
  {
   "cell_type": "code",
   "execution_count": 14,
   "id": "b32adbcc",
   "metadata": {},
   "outputs": [],
   "source": [
    "dataset = DataSets.make_classification(n_samples = 10000\n",
    "                                       , n_features = 20\n",
    "                                       , n_informative=5\n",
    "                                       , n_redundant=15\n",
    "                                       , random_state=1)\n",
    "X, v = dataset"
   ]
  },
  {
   "cell_type": "markdown",
   "id": "2d2a6c00",
   "metadata": {},
   "source": [
    "Below you can implement the function"
   ]
  },
  {
   "cell_type": "code",
   "execution_count": 15,
   "id": "6168c18e",
   "metadata": {},
   "outputs": [],
   "source": [
    "def data_splitter(X, v, batch_size, train_size):\n",
    "    '''\n",
    "    X is list of data-points\n",
    "    v is list of labels\n",
    "    train_size is the fraction of data-points used for training\n",
    "    '''\n",
    "    X_train, X_test, v_train, v_test = train_test_split(X, v\n",
    "        , train_size= train_size\n",
    "        , shuffle = True\n",
    "        )\n",
    "    X_train = torch.tensor(X_train,dtype=torch.float32)\n",
    "    v_train = torch.tensor(v_train,dtype=torch.float32).reshape(-1,1)\n",
    "    X_test = torch.tensor(X_test, dtype=torch.float32)\n",
    "    v_test = torch.tensor(v_test, dtype=torch.float32).reshape(-1, 1)\n",
    "    batch_indx = torch.arange(0, len(X_train), batch_size)\n",
    "    return X_train, v_train, X_test, v_test, batch_indx"
   ]
  },
  {
   "cell_type": "markdown",
   "id": "45c87e1d",
   "metadata": {},
   "source": [
    "### Basic Classes\n",
    "\n",
    "For this task you can use `nn.Layer()`. You mainly need to complete the following `class`."
   ]
  },
  {
   "cell_type": "code",
   "execution_count": 16,
   "id": "ceba5e02",
   "metadata": {},
   "outputs": [],
   "source": [
    "class myClassifier(nn.Module):\n",
    "    def __init__(self):\n",
    "        super().__init__()\n",
    "\n",
    "        self.layer1 = nn.Linear(20, 64)\n",
    "        self.active1 = nn.ReLU()\n",
    "\n",
    "        self.layer2 = nn.Linear(64, 32)\n",
    "        self.active2 = nn.ReLU()\n",
    "\n",
    "        self.output = nn.Linear(32, 1)\n",
    "        self.sigmoid = nn.Sigmoid()\n",
    "        \n",
    "    def forward(self, x):\n",
    "        x = self.active1(self.layer1(x))\n",
    "        x = self.active2(self.layer2(x))\n",
    "        x = self.sigmoid(self.output(x))\n",
    "        return x"
   ]
  },
  {
   "cell_type": "markdown",
   "id": "67dc167c",
   "metadata": {},
   "source": [
    "### Backpropagation\n",
    "We now learn how we can use the autograd of PyTorch to implement backpropagation. Simply complete the following code and run it to see how autograd works."
   ]
  },
  {
   "cell_type": "code",
   "execution_count": 17,
   "id": "453c2fb1",
   "metadata": {},
   "outputs": [],
   "source": [
    "# first, instantiate the model \n",
    "myModel = myClassifier()\n",
    "\n",
    "# now, define the loss\n",
    "loss_fn = nn.BCELoss()\n",
    "\n",
    "# split the dataset via function data_splitter()\n",
    "X_train, v_train, X_test, v_test, batch_indx = data_splitter(X, v, batch_size=32, train_size=0.8)\n",
    "\n",
    "# take a sample point from training dataset\n",
    "x, v =  X_train[0], v_train[0]\n",
    "\n",
    "# forward pass\n",
    "y = myModel.forward(x)\n",
    "Loss = loss_fn(y, v)\n",
    "\n",
    "# backward pass\n",
    "Loss.backward()"
   ]
  },
  {
   "cell_type": "markdown",
   "id": "dd464b52",
   "metadata": {},
   "source": [
    "We can now access the computed gradient of the loss with respect to the output bias using the following code."
   ]
  },
  {
   "cell_type": "code",
   "execution_count": 18,
   "id": "8470a2ed",
   "metadata": {},
   "outputs": [
    {
     "data": {
      "text/plain": [
       "tensor([-0.4596])"
      ]
     },
     "execution_count": 18,
     "metadata": {},
     "output_type": "execute_result"
    }
   ],
   "source": [
    "myModel.output.bias.grad"
   ]
  },
  {
   "cell_type": "markdown",
   "id": "d243b963",
   "metadata": {},
   "source": [
    "### Optimizer\n",
    "We can further define the optimizer for our model as follows:"
   ]
  },
  {
   "cell_type": "code",
   "execution_count": 19,
   "id": "1f6f39e3",
   "metadata": {},
   "outputs": [],
   "source": [
    "# first, instantiate the model \n",
    "myModel = myClassifier()\n",
    "\n",
    "# now define the optimizer\n",
    "optimizer = torch.optim.Adam(myModel.parameters(),\n",
    "                        lr=0.0001 # this specifies the learning rate\n",
    "                        )"
   ]
  },
  {
   "cell_type": "markdown",
   "id": "83bce652",
   "metadata": {},
   "source": [
    "### Implementing Training and Test Loop\n",
    "Now that we have all the components, we can simply implement the training loop. Complete the following code to get the training done."
   ]
  },
  {
   "cell_type": "code",
   "execution_count": 20,
   "id": "58f89538",
   "metadata": {},
   "outputs": [],
   "source": [
    "def training_loop(model):\n",
    "    # define the loss and optimizer\n",
    "    loss_fn = nn.BCELoss() # binary cross-entropy\n",
    "    optimizer = torch.optim.Adam(model.parameters(), lr=0.0001)\n",
    "\n",
    "    # set the training parameters\n",
    "    n_epochs = 300   # number of epochs\n",
    "    batch_size = 40  # batch size\n",
    "\n",
    "    # specify training and test datasets and the batch indices\n",
    "    # use data_splitter() and X, v are generated by Scikit-Learn\n",
    "    X_train, v_train, X_test, v_test, batch_indx = data_splitter(X, dataset[1], batch_size, train_size=0.8)\n",
    "\n",
    "    # make empty list to save training and test risk\n",
    "    train_risk = []\n",
    "    test_risk = []\n",
    "\n",
    "    # training loop\n",
    "\n",
    "    # we visualize the training progress via tqdm\n",
    "    with tqdm(range(n_epochs), unit=\"epoch\") as epoch_bar:\n",
    "        epoch_bar.set_description(\"training loop\")\n",
    "        for epoch in epoch_bar:\n",
    "\n",
    "            # tell pytorch that you start training\n",
    "            model.train()\n",
    "\n",
    "            for indx in batch_indx:\n",
    "                # take a batch of samples\n",
    "                X_batch = X_train[indx:indx+batch_size]\n",
    "                v_batch = v_train[indx:indx+batch_size]\n",
    "\n",
    "                # pass forward the mini-batch\n",
    "                y_batch = model(X_batch)\n",
    "\n",
    "                # compute the loss\n",
    "                loss = loss_fn(y_batch, v_batch)\n",
    "\n",
    "                # backward pass\n",
    "                # first make gradient zero\n",
    "                optimizer.zero_grad()\n",
    "                # then, compute the gradient of loss\n",
    "                loss.backward()\n",
    "\n",
    "                # now update weights by one optimization step\n",
    "                optimizer.step()\n",
    "\n",
    "            # we are done with one epoch\n",
    "            # we now evaluate training and test risks\n",
    "            # first we tell pytorch we are doing evaluation\n",
    "            model.eval()\n",
    "\n",
    "            # now we evaluate the training risk\n",
    "            y_train = model(X_train)\n",
    "            CE_train = loss_fn(y_train, v_train)\n",
    "            train_risk.append(CE_train.item())\n",
    "\n",
    "            # then we evaluate the test risk\n",
    "            y_test = model(X_test)\n",
    "            CE_test = loss_fn(y_test, v_test)\n",
    "            test_risk.append(CE_test.item())\n",
    "        return train_risk, test_risk"
   ]
  },
  {
   "cell_type": "markdown",
   "id": "c3cf7430",
   "metadata": {},
   "source": [
    "We can now try training our model by passing the model to the training loop. Complete the following code to train the model and plot the learning curves."
   ]
  },
  {
   "cell_type": "code",
   "execution_count": 21,
   "id": "9dfc551f",
   "metadata": {},
   "outputs": [
    {
     "name": "stderr",
     "output_type": "stream",
     "text": [
      "training loop: 100%|██████████| 300/300 [00:29<00:00, 10.07epoch/s]\n"
     ]
    },
    {
     "data": {
      "image/png": "[encoded data removed]",
      "text/plain": [
       "<Figure size 1000x600 with 1 Axes>"
      ]
     },
     "metadata": {},
     "output_type": "display_data"
    }
   ],
   "source": [
    "myModel = myClassifier()\n",
    "train_risk, test_risk = training_loop(myModel)\n",
    "\n",
    "# Create the plot\n",
    "plt.figure(figsize=(10, 6))\n",
    "plt.plot(train_risk, label='Training Risk', color='blue')\n",
    "plt.plot(test_risk, label='Test Risk', color='red')\n",
    "\n",
    "# Add labels and title\n",
    "plt.xlabel('Epoch')\n",
    "plt.ylabel('Risk (Binary Cross Entropy)')\n",
    "plt.title('Training and Test Risk vs Epochs')\n",
    "plt.legend()\n",
    "plt.grid(True)\n",
    "\n",
    "# Display the plot\n",
    "plt.show()"
   ]
  },
  {
   "cell_type": "markdown",
   "id": "9f3471ba",
   "metadata": {},
   "source": [
    "## Programming Question 2: MNIST Dataset\n",
    "We play around a bit with the datasets in PyTorch."
   ]
  },
  {
   "cell_type": "code",
   "execution_count": 31,
   "id": "3fbb1155",
   "metadata": {},
   "outputs": [],
   "source": [
    "import torch\n",
    "import torchvision.datasets as DS\n",
    "import torchvision.transforms as transform"
   ]
  },
  {
   "cell_type": "markdown",
   "id": "939178a2",
   "metadata": {},
   "source": [
    "Import the MNIST dataset by running the code below. "
   ]
  },
  {
   "cell_type": "code",
   "execution_count": 23,
   "id": "6b12c0f8",
   "metadata": {},
   "outputs": [],
   "source": [
    "mnist = DS.MNIST('./data',train=True,transform=transform.ToTensor(),download=True)"
   ]
  },
  {
   "cell_type": "markdown",
   "id": "ad8cc082",
   "metadata": {},
   "source": [
    "We now build a function `myBatcher()` which gets the batch size as the input and returns a list containing multiple batches. "
   ]
  },
  {
   "cell_type": "code",
   "execution_count": 25,
   "id": "9e835629",
   "metadata": {},
   "outputs": [],
   "source": [
    "def myBatcher(batch_size):\n",
    "    batch_list = []\n",
    "    num_batches = len(mnist) // batch_size\n",
    "    \n",
    "    for j in range(num_batches):\n",
    "        batch_x = torch.zeros(batch_size,784)\n",
    "        batch_v = torch.zeros(batch_size)\n",
    "        for i in range(batch_size):\n",
    "            batch_x[i] = mnist[j * batch_size + i][0].reshape(-1)\n",
    "            batch_v[i] = mnist[j * batch_size + i][1]\n",
    "            \n",
    "        batch = (batch_x,batch_v)\n",
    "        batch_list.append(batch)\n",
    "    return batch_list"
   ]
  },
  {
   "cell_type": "markdown",
   "id": "a94dc68b",
   "metadata": {},
   "source": [
    "Let's try the implemented function"
   ]
  },
  {
   "cell_type": "code",
   "execution_count": 30,
   "id": "e24d2fce",
   "metadata": {},
   "outputs": [
    {
     "name": "stdout",
     "output_type": "stream",
     "text": [
      "\n",
      "First mini-batch labels (batch 0):\n",
      "tensor([5., 0., 4., 1., 9., 2., 1., 3., 1., 4., 3., 5., 3., 6., 1., 7., 2., 8.,\n",
      "        6., 9., 4., 0., 9., 1., 1., 2., 4., 3., 2., 7., 3., 8., 6., 9., 0., 5.,\n",
      "        6., 0., 7., 6., 1., 8., 7., 9., 3., 9., 8., 5., 9., 3., 3., 0., 7., 4.,\n",
      "        9., 8., 0., 9., 4., 1., 4., 4., 6., 0., 4., 5., 6., 1., 0., 0., 1., 7.,\n",
      "        1., 6., 3., 0., 2., 1., 1., 7., 9., 0., 2., 6., 7., 8., 3., 9., 0., 4.,\n",
      "        6., 7., 4., 6., 8., 0., 7., 8., 3., 1.])\n",
      "\n",
      "Third mini-batch labels (batch 2):\n",
      "tensor([1., 1., 8., 3., 6., 1., 0., 3., 1., 0., 0., 1., 7., 2., 7., 3., 0., 4.,\n",
      "        6., 5., 2., 6., 4., 7., 1., 8., 9., 9., 3., 0., 7., 1., 0., 2., 0., 3.,\n",
      "        5., 4., 6., 5., 8., 6., 3., 7., 5., 8., 0., 9., 1., 0., 3., 1., 2., 2.,\n",
      "        3., 3., 6., 4., 7., 5., 0., 6., 2., 7., 9., 8., 5., 9., 2., 1., 1., 4.,\n",
      "        4., 5., 6., 4., 1., 2., 5., 3., 9., 3., 9., 0., 5., 9., 6., 5., 7., 4.,\n",
      "        1., 3., 4., 0., 4., 8., 0., 4., 3., 6.])\n"
     ]
    }
   ],
   "source": [
    "batch_list = myBatcher(100)\n",
    "\n",
    "first_batch_labels = batch_list[0][1]\n",
    "third_batch_labels = batch_list[2][1]\n",
    "\n",
    "# Print labels of first and third mini-batches\n",
    "print(f\"\\nFirst mini-batch labels (batch 0):\\n{first_batch_labels}\")\n",
    "print(f\"\\nThird mini-batch labels (batch 2):\\n{third_batch_labels}\")"
   ]
  }
 ],
 "metadata": {
  "kernelspec": {
   "display_name": "Python 3",
   "language": "python",
   "name": "python3"
  },
  "language_info": {
   "codemirror_mode": {
    "name": "ipython",
    "version": 3
   },
   "file_extension": ".py",
   "mimetype": "text/x-python",
   "name": "python",
   "nbconvert_exporter": "python",
   "pygments_lexer": "ipython3",
   "version": "3.11.11"
  }
 },
 "nbformat": 4,
 "nbformat_minor": 5
}
